{
 "cells": [
  {
   "cell_type": "markdown",
   "metadata": {},
   "source": [
    "# Import Library"
   ]
  },
  {
   "cell_type": "code",
   "execution_count": 1,
   "metadata": {},
   "outputs": [],
   "source": [
    "import pandas as pd\n",
    "import numpy as np\n",
    "from sklearn.model_selection import train_test_split\n",
    "from sklearn.preprocessing import LabelEncoder\n",
    "from sklearn.preprocessing import OneHotEncoder\n",
    "from sklearn.metrics import accuracy_score, classification_report\n",
    "from sklearn.ensemble import RandomForestClassifier\n",
    "from xgboost import XGBClassifier\n",
    "from sklearn.compose import ColumnTransformer\n",
    "import matplotlib.pyplot as plt\n",
    "import pickle"
   ]
  },
  {
   "cell_type": "markdown",
   "metadata": {},
   "source": [
    "# Load Dataset"
   ]
  },
  {
   "cell_type": "code",
   "execution_count": 2,
   "metadata": {},
   "outputs": [],
   "source": [
    "df = pd.read_csv('Dataset_A_loan.csv')"
   ]
  },
  {
   "cell_type": "code",
   "execution_count": 3,
   "metadata": {},
   "outputs": [
    {
     "data": {
      "text/html": [
       "<div>\n",
       "<style scoped>\n",
       "    .dataframe tbody tr th:only-of-type {\n",
       "        vertical-align: middle;\n",
       "    }\n",
       "\n",
       "    .dataframe tbody tr th {\n",
       "        vertical-align: top;\n",
       "    }\n",
       "\n",
       "    .dataframe thead th {\n",
       "        text-align: right;\n",
       "    }\n",
       "</style>\n",
       "<table border=\"1\" class=\"dataframe\">\n",
       "  <thead>\n",
       "    <tr style=\"text-align: right;\">\n",
       "      <th></th>\n",
       "      <th>person_age</th>\n",
       "      <th>person_gender</th>\n",
       "      <th>person_education</th>\n",
       "      <th>person_income</th>\n",
       "      <th>person_emp_exp</th>\n",
       "      <th>person_home_ownership</th>\n",
       "      <th>loan_amnt</th>\n",
       "      <th>loan_intent</th>\n",
       "      <th>loan_int_rate</th>\n",
       "      <th>loan_percent_income</th>\n",
       "      <th>cb_person_cred_hist_length</th>\n",
       "      <th>credit_score</th>\n",
       "      <th>previous_loan_defaults_on_file</th>\n",
       "      <th>loan_status</th>\n",
       "    </tr>\n",
       "  </thead>\n",
       "  <tbody>\n",
       "    <tr>\n",
       "      <th>44995</th>\n",
       "      <td>27.0</td>\n",
       "      <td>male</td>\n",
       "      <td>Associate</td>\n",
       "      <td>47971.0</td>\n",
       "      <td>6</td>\n",
       "      <td>RENT</td>\n",
       "      <td>15000.0</td>\n",
       "      <td>MEDICAL</td>\n",
       "      <td>15.66</td>\n",
       "      <td>0.31</td>\n",
       "      <td>3.0</td>\n",
       "      <td>645</td>\n",
       "      <td>No</td>\n",
       "      <td>1</td>\n",
       "    </tr>\n",
       "    <tr>\n",
       "      <th>44996</th>\n",
       "      <td>37.0</td>\n",
       "      <td>female</td>\n",
       "      <td>Associate</td>\n",
       "      <td>65800.0</td>\n",
       "      <td>17</td>\n",
       "      <td>RENT</td>\n",
       "      <td>9000.0</td>\n",
       "      <td>HOMEIMPROVEMENT</td>\n",
       "      <td>14.07</td>\n",
       "      <td>0.14</td>\n",
       "      <td>11.0</td>\n",
       "      <td>621</td>\n",
       "      <td>No</td>\n",
       "      <td>1</td>\n",
       "    </tr>\n",
       "    <tr>\n",
       "      <th>44997</th>\n",
       "      <td>33.0</td>\n",
       "      <td>male</td>\n",
       "      <td>Associate</td>\n",
       "      <td>56942.0</td>\n",
       "      <td>7</td>\n",
       "      <td>RENT</td>\n",
       "      <td>2771.0</td>\n",
       "      <td>DEBTCONSOLIDATION</td>\n",
       "      <td>10.02</td>\n",
       "      <td>0.05</td>\n",
       "      <td>10.0</td>\n",
       "      <td>668</td>\n",
       "      <td>No</td>\n",
       "      <td>1</td>\n",
       "    </tr>\n",
       "    <tr>\n",
       "      <th>44998</th>\n",
       "      <td>29.0</td>\n",
       "      <td>male</td>\n",
       "      <td>Bachelor</td>\n",
       "      <td>33164.0</td>\n",
       "      <td>4</td>\n",
       "      <td>RENT</td>\n",
       "      <td>12000.0</td>\n",
       "      <td>EDUCATION</td>\n",
       "      <td>13.23</td>\n",
       "      <td>0.36</td>\n",
       "      <td>6.0</td>\n",
       "      <td>604</td>\n",
       "      <td>No</td>\n",
       "      <td>1</td>\n",
       "    </tr>\n",
       "    <tr>\n",
       "      <th>44999</th>\n",
       "      <td>24.0</td>\n",
       "      <td>male</td>\n",
       "      <td>High School</td>\n",
       "      <td>51609.0</td>\n",
       "      <td>1</td>\n",
       "      <td>RENT</td>\n",
       "      <td>6665.0</td>\n",
       "      <td>DEBTCONSOLIDATION</td>\n",
       "      <td>17.05</td>\n",
       "      <td>0.13</td>\n",
       "      <td>3.0</td>\n",
       "      <td>628</td>\n",
       "      <td>No</td>\n",
       "      <td>1</td>\n",
       "    </tr>\n",
       "  </tbody>\n",
       "</table>\n",
       "</div>"
      ],
      "text/plain": [
       "       person_age person_gender person_education  person_income  \\\n",
       "44995        27.0          male        Associate        47971.0   \n",
       "44996        37.0        female        Associate        65800.0   \n",
       "44997        33.0          male        Associate        56942.0   \n",
       "44998        29.0          male         Bachelor        33164.0   \n",
       "44999        24.0          male      High School        51609.0   \n",
       "\n",
       "       person_emp_exp person_home_ownership  loan_amnt        loan_intent  \\\n",
       "44995               6                  RENT    15000.0            MEDICAL   \n",
       "44996              17                  RENT     9000.0    HOMEIMPROVEMENT   \n",
       "44997               7                  RENT     2771.0  DEBTCONSOLIDATION   \n",
       "44998               4                  RENT    12000.0          EDUCATION   \n",
       "44999               1                  RENT     6665.0  DEBTCONSOLIDATION   \n",
       "\n",
       "       loan_int_rate  loan_percent_income  cb_person_cred_hist_length  \\\n",
       "44995          15.66                 0.31                         3.0   \n",
       "44996          14.07                 0.14                        11.0   \n",
       "44997          10.02                 0.05                        10.0   \n",
       "44998          13.23                 0.36                         6.0   \n",
       "44999          17.05                 0.13                         3.0   \n",
       "\n",
       "       credit_score previous_loan_defaults_on_file  loan_status  \n",
       "44995           645                             No            1  \n",
       "44996           621                             No            1  \n",
       "44997           668                             No            1  \n",
       "44998           604                             No            1  \n",
       "44999           628                             No            1  "
      ]
     },
     "execution_count": 3,
     "metadata": {},
     "output_type": "execute_result"
    }
   ],
   "source": [
    "df.tail()"
   ]
  },
  {
   "cell_type": "code",
   "execution_count": 4,
   "metadata": {},
   "outputs": [
    {
     "data": {
      "text/plain": [
       "(45000, 14)"
      ]
     },
     "execution_count": 4,
     "metadata": {},
     "output_type": "execute_result"
    }
   ],
   "source": [
    "df.shape"
   ]
  },
  {
   "cell_type": "code",
   "execution_count": 5,
   "metadata": {},
   "outputs": [
    {
     "name": "stdout",
     "output_type": "stream",
     "text": [
      "<class 'pandas.core.frame.DataFrame'>\n",
      "RangeIndex: 45000 entries, 0 to 44999\n",
      "Data columns (total 14 columns):\n",
      " #   Column                          Non-Null Count  Dtype  \n",
      "---  ------                          --------------  -----  \n",
      " 0   person_age                      45000 non-null  float64\n",
      " 1   person_gender                   45000 non-null  object \n",
      " 2   person_education                45000 non-null  object \n",
      " 3   person_income                   42750 non-null  float64\n",
      " 4   person_emp_exp                  45000 non-null  int64  \n",
      " 5   person_home_ownership           45000 non-null  object \n",
      " 6   loan_amnt                       45000 non-null  float64\n",
      " 7   loan_intent                     45000 non-null  object \n",
      " 8   loan_int_rate                   45000 non-null  float64\n",
      " 9   loan_percent_income             45000 non-null  float64\n",
      " 10  cb_person_cred_hist_length      45000 non-null  float64\n",
      " 11  credit_score                    45000 non-null  int64  \n",
      " 12  previous_loan_defaults_on_file  45000 non-null  object \n",
      " 13  loan_status                     45000 non-null  int64  \n",
      "dtypes: float64(6), int64(3), object(5)\n",
      "memory usage: 4.8+ MB\n"
     ]
    }
   ],
   "source": [
    "df.info()"
   ]
  },
  {
   "cell_type": "code",
   "execution_count": 6,
   "metadata": {},
   "outputs": [
    {
     "data": {
      "text/plain": [
       "Index(['person_age', 'person_gender', 'person_education', 'person_income',\n",
       "       'person_emp_exp', 'person_home_ownership', 'loan_amnt', 'loan_intent',\n",
       "       'loan_int_rate', 'loan_percent_income', 'cb_person_cred_hist_length',\n",
       "       'credit_score', 'previous_loan_defaults_on_file', 'loan_status'],\n",
       "      dtype='object')"
      ]
     },
     "execution_count": 6,
     "metadata": {},
     "output_type": "execute_result"
    }
   ],
   "source": [
    "df.columns"
   ]
  },
  {
   "cell_type": "markdown",
   "metadata": {},
   "source": [
    "# Define fitur dan target"
   ]
  },
  {
   "cell_type": "code",
   "execution_count": 7,
   "metadata": {},
   "outputs": [],
   "source": [
    "X = df.drop(\"loan_status\", axis=1)\n",
    "y = df[\"loan_status\"]"
   ]
  },
  {
   "cell_type": "markdown",
   "metadata": {},
   "source": [
    "# Split data"
   ]
  },
  {
   "cell_type": "code",
   "execution_count": 8,
   "metadata": {},
   "outputs": [],
   "source": [
    "X_train, X_test, y_train, y_test = train_test_split(X, y, test_size=0.2, random_state=42)"
   ]
  },
  {
   "cell_type": "code",
   "execution_count": 9,
   "metadata": {},
   "outputs": [
    {
     "data": {
      "text/plain": [
       "person_age                           0\n",
       "person_gender                        0\n",
       "person_education                     0\n",
       "person_income                     1769\n",
       "person_emp_exp                       0\n",
       "person_home_ownership                0\n",
       "loan_amnt                            0\n",
       "loan_intent                          0\n",
       "loan_int_rate                        0\n",
       "loan_percent_income                  0\n",
       "cb_person_cred_hist_length           0\n",
       "credit_score                         0\n",
       "previous_loan_defaults_on_file       0\n",
       "dtype: int64"
      ]
     },
     "execution_count": 9,
     "metadata": {},
     "output_type": "execute_result"
    }
   ],
   "source": [
    "X_train.isnull().sum()"
   ]
  },
  {
   "cell_type": "code",
   "execution_count": 10,
   "metadata": {},
   "outputs": [
    {
     "data": {
      "text/html": [
       "<div>\n",
       "<style scoped>\n",
       "    .dataframe tbody tr th:only-of-type {\n",
       "        vertical-align: middle;\n",
       "    }\n",
       "\n",
       "    .dataframe tbody tr th {\n",
       "        vertical-align: top;\n",
       "    }\n",
       "\n",
       "    .dataframe thead th {\n",
       "        text-align: right;\n",
       "    }\n",
       "</style>\n",
       "<table border=\"1\" class=\"dataframe\">\n",
       "  <thead>\n",
       "    <tr style=\"text-align: right;\">\n",
       "      <th></th>\n",
       "      <th>person_age</th>\n",
       "      <th>person_gender</th>\n",
       "      <th>person_education</th>\n",
       "      <th>person_income</th>\n",
       "      <th>person_emp_exp</th>\n",
       "      <th>person_home_ownership</th>\n",
       "      <th>loan_amnt</th>\n",
       "      <th>loan_intent</th>\n",
       "      <th>loan_int_rate</th>\n",
       "      <th>loan_percent_income</th>\n",
       "      <th>cb_person_cred_hist_length</th>\n",
       "      <th>credit_score</th>\n",
       "      <th>previous_loan_defaults_on_file</th>\n",
       "    </tr>\n",
       "  </thead>\n",
       "  <tbody>\n",
       "    <tr>\n",
       "      <th>25180</th>\n",
       "      <td>34.0</td>\n",
       "      <td>female</td>\n",
       "      <td>Bachelor</td>\n",
       "      <td>97265.0</td>\n",
       "      <td>11</td>\n",
       "      <td>MORTGAGE</td>\n",
       "      <td>15000.0</td>\n",
       "      <td>PERSONAL</td>\n",
       "      <td>12.73</td>\n",
       "      <td>0.15</td>\n",
       "      <td>9.0</td>\n",
       "      <td>631</td>\n",
       "      <td>No</td>\n",
       "    </tr>\n",
       "    <tr>\n",
       "      <th>12555</th>\n",
       "      <td>25.0</td>\n",
       "      <td>male</td>\n",
       "      <td>High School</td>\n",
       "      <td>NaN</td>\n",
       "      <td>3</td>\n",
       "      <td>RENT</td>\n",
       "      <td>12000.0</td>\n",
       "      <td>VENTURE</td>\n",
       "      <td>11.86</td>\n",
       "      <td>0.16</td>\n",
       "      <td>4.0</td>\n",
       "      <td>659</td>\n",
       "      <td>Yes</td>\n",
       "    </tr>\n",
       "    <tr>\n",
       "      <th>29153</th>\n",
       "      <td>41.0</td>\n",
       "      <td>female</td>\n",
       "      <td>Master</td>\n",
       "      <td>322597.0</td>\n",
       "      <td>18</td>\n",
       "      <td>MORTGAGE</td>\n",
       "      <td>24000.0</td>\n",
       "      <td>PERSONAL</td>\n",
       "      <td>10.37</td>\n",
       "      <td>0.07</td>\n",
       "      <td>11.0</td>\n",
       "      <td>683</td>\n",
       "      <td>Yes</td>\n",
       "    </tr>\n",
       "    <tr>\n",
       "      <th>23838</th>\n",
       "      <td>27.0</td>\n",
       "      <td>male</td>\n",
       "      <td>Associate</td>\n",
       "      <td>94232.0</td>\n",
       "      <td>4</td>\n",
       "      <td>RENT</td>\n",
       "      <td>9600.0</td>\n",
       "      <td>EDUCATION</td>\n",
       "      <td>17.14</td>\n",
       "      <td>0.10</td>\n",
       "      <td>7.0</td>\n",
       "      <td>641</td>\n",
       "      <td>No</td>\n",
       "    </tr>\n",
       "    <tr>\n",
       "      <th>35686</th>\n",
       "      <td>27.0</td>\n",
       "      <td>male</td>\n",
       "      <td>Master</td>\n",
       "      <td>NaN</td>\n",
       "      <td>7</td>\n",
       "      <td>RENT</td>\n",
       "      <td>7059.0</td>\n",
       "      <td>HOMEIMPROVEMENT</td>\n",
       "      <td>12.97</td>\n",
       "      <td>0.08</td>\n",
       "      <td>3.0</td>\n",
       "      <td>706</td>\n",
       "      <td>Yes</td>\n",
       "    </tr>\n",
       "  </tbody>\n",
       "</table>\n",
       "</div>"
      ],
      "text/plain": [
       "       person_age person_gender person_education  person_income  \\\n",
       "25180        34.0        female         Bachelor        97265.0   \n",
       "12555        25.0          male      High School            NaN   \n",
       "29153        41.0        female           Master       322597.0   \n",
       "23838        27.0          male        Associate        94232.0   \n",
       "35686        27.0          male           Master            NaN   \n",
       "\n",
       "       person_emp_exp person_home_ownership  loan_amnt      loan_intent  \\\n",
       "25180              11              MORTGAGE    15000.0         PERSONAL   \n",
       "12555               3                  RENT    12000.0          VENTURE   \n",
       "29153              18              MORTGAGE    24000.0         PERSONAL   \n",
       "23838               4                  RENT     9600.0        EDUCATION   \n",
       "35686               7                  RENT     7059.0  HOMEIMPROVEMENT   \n",
       "\n",
       "       loan_int_rate  loan_percent_income  cb_person_cred_hist_length  \\\n",
       "25180          12.73                 0.15                         9.0   \n",
       "12555          11.86                 0.16                         4.0   \n",
       "29153          10.37                 0.07                        11.0   \n",
       "23838          17.14                 0.10                         7.0   \n",
       "35686          12.97                 0.08                         3.0   \n",
       "\n",
       "       credit_score previous_loan_defaults_on_file  \n",
       "25180           631                             No  \n",
       "12555           659                            Yes  \n",
       "29153           683                            Yes  \n",
       "23838           641                             No  \n",
       "35686           706                            Yes  "
      ]
     },
     "execution_count": 10,
     "metadata": {},
     "output_type": "execute_result"
    }
   ],
   "source": [
    "X_train.head()"
   ]
  },
  {
   "cell_type": "code",
   "execution_count": 11,
   "metadata": {},
   "outputs": [
    {
     "data": {
      "text/plain": [
       "25180    0\n",
       "12555    0\n",
       "29153    0\n",
       "23838    0\n",
       "35686    0\n",
       "Name: loan_status, dtype: int64"
      ]
     },
     "execution_count": 11,
     "metadata": {},
     "output_type": "execute_result"
    }
   ],
   "source": [
    "y_train.head()"
   ]
  },
  {
   "cell_type": "code",
   "execution_count": 12,
   "metadata": {},
   "outputs": [
    {
     "data": {
      "text/plain": [
       "Index(['person_age', 'person_gender', 'person_education', 'person_income',\n",
       "       'person_emp_exp', 'person_home_ownership', 'loan_amnt', 'loan_intent',\n",
       "       'loan_int_rate', 'loan_percent_income', 'cb_person_cred_hist_length',\n",
       "       'credit_score', 'previous_loan_defaults_on_file'],\n",
       "      dtype='object')"
      ]
     },
     "execution_count": 12,
     "metadata": {},
     "output_type": "execute_result"
    }
   ],
   "source": [
    "X_train.columns"
   ]
  },
  {
   "cell_type": "code",
   "execution_count": 13,
   "metadata": {},
   "outputs": [
    {
     "data": {
      "text/plain": [
       "(36000, 13)"
      ]
     },
     "execution_count": 13,
     "metadata": {},
     "output_type": "execute_result"
    }
   ],
   "source": [
    "X_train.shape"
   ]
  },
  {
   "cell_type": "code",
   "execution_count": 14,
   "metadata": {},
   "outputs": [
    {
     "data": {
      "text/plain": [
       "(9000, 13)"
      ]
     },
     "execution_count": 14,
     "metadata": {},
     "output_type": "execute_result"
    }
   ],
   "source": [
    "X_test.shape"
   ]
  },
  {
   "cell_type": "markdown",
   "metadata": {},
   "source": [
    "# Handle Missing Value"
   ]
  },
  {
   "cell_type": "code",
   "execution_count": 15,
   "metadata": {},
   "outputs": [
    {
     "data": {
      "image/png": "[encoded data removed]",
      "text/plain": [
       "<Figure size 640x480 with 1 Axes>"
      ]
     },
     "metadata": {},
     "output_type": "display_data"
    }
   ],
   "source": [
    "boxplot = X_train.boxplot(column=['person_income'])\n",
    "plt.show()"
   ]
  },
  {
   "cell_type": "markdown",
   "metadata": {},
   "source": [
    "keliatan diatas boxplotnya skewed ke kanan soalnya outliernya banyak sekali. Maka, utk ganti nilai NaN nya pakai median karena lebih robust terhadap outlier dibanding mean."
   ]
  },
  {
   "cell_type": "code",
   "execution_count": 16,
   "metadata": {},
   "outputs": [
    {
     "name": "stdout",
     "output_type": "stream",
     "text": [
      "mean person income: nan\n"
     ]
    }
   ],
   "source": [
    "#median person income\n",
    "print('mean person income:',np.median(X_train['person_income']))"
   ]
  },
  {
   "cell_type": "code",
   "execution_count": 17,
   "metadata": {},
   "outputs": [],
   "source": [
    "#masukin median ke na train sm test\n",
    "X_train['person_income'] = X_train['person_income'].fillna(70273.5)\n",
    "X_test['person_income'] = X_test['person_income'].fillna(70273.5)"
   ]
  },
  {
   "cell_type": "code",
   "execution_count": 18,
   "metadata": {},
   "outputs": [
    {
     "name": "stdout",
     "output_type": "stream",
     "text": [
      "<class 'pandas.core.frame.DataFrame'>\n",
      "Index: 36000 entries, 25180 to 15795\n",
      "Data columns (total 13 columns):\n",
      " #   Column                          Non-Null Count  Dtype  \n",
      "---  ------                          --------------  -----  \n",
      " 0   person_age                      36000 non-null  float64\n",
      " 1   person_gender                   36000 non-null  object \n",
      " 2   person_education                36000 non-null  object \n",
      " 3   person_income                   36000 non-null  float64\n",
      " 4   person_emp_exp                  36000 non-null  int64  \n",
      " 5   person_home_ownership           36000 non-null  object \n",
      " 6   loan_amnt                       36000 non-null  float64\n",
      " 7   loan_intent                     36000 non-null  object \n",
      " 8   loan_int_rate                   36000 non-null  float64\n",
      " 9   loan_percent_income             36000 non-null  float64\n",
      " 10  cb_person_cred_hist_length      36000 non-null  float64\n",
      " 11  credit_score                    36000 non-null  int64  \n",
      " 12  previous_loan_defaults_on_file  36000 non-null  object \n",
      "dtypes: float64(6), int64(2), object(5)\n",
      "memory usage: 3.8+ MB\n"
     ]
    }
   ],
   "source": [
    "X_train.info()"
   ]
  },
  {
   "cell_type": "code",
   "execution_count": 19,
   "metadata": {},
   "outputs": [],
   "source": [
    "#ngehandle data inkonsisten\n",
    "X_train['person_gender'] = X_train['person_gender'].replace({\n",
    "    'Male': 'male',\n",
    "    'fe male': 'female'\n",
    "})\n",
    "\n",
    "X_test['person_gender'] = X_test['person_gender'].replace({\n",
    "    'Male': 'male',\n",
    "    'fe male': 'female'\n",
    "})"
   ]
  },
  {
   "cell_type": "markdown",
   "metadata": {},
   "source": [
    "# Label encoding"
   ]
  },
  {
   "cell_type": "code",
   "execution_count": 20,
   "metadata": {},
   "outputs": [],
   "source": [
    "X_train['previous_loan_defaults_on_file'] = X_train['previous_loan_defaults_on_file'].map({\"No\":0, \"Yes\":1})\n",
    "X_train['person_gender'] = X_train['person_gender'].map({\"male\":0, \"female\":1})\n",
    "\n",
    "X_test['previous_loan_defaults_on_file'] = X_test['previous_loan_defaults_on_file'].map({\"No\":0, \"Yes\":1})\n",
    "X_test['person_gender'] = X_test['person_gender'].map({\"male\":0, \"female\":1})"
   ]
  },
  {
   "cell_type": "markdown",
   "metadata": {},
   "source": [
    "# One hot encoding"
   ]
  },
  {
   "cell_type": "code",
   "execution_count": 21,
   "metadata": {},
   "outputs": [],
   "source": [
    "onehot_category = ['person_education', 'person_home_ownership', 'loan_intent']\n",
    "\n",
    "encoding = ColumnTransformer(transformers=[('onehot', OneHotEncoder(drop='first', handle_unknown='ignore'), onehot_category)], remainder='passthrough')  \n",
    "\n",
    "X_train = encoding.fit_transform(X_train)\n",
    "X_test = encoding.transform(X_test)"
   ]
  },
  {
   "cell_type": "markdown",
   "metadata": {},
   "source": [
    "# Random Forest Classifier"
   ]
  },
  {
   "cell_type": "code",
   "execution_count": 22,
   "metadata": {},
   "outputs": [],
   "source": [
    "rf = RandomForestClassifier(random_state=42)\n",
    "rf.fit(X_train, y_train)\n",
    "rf_preds = rf.predict(X_test)\n",
    "rf_acc = accuracy_score(y_test, rf_preds)"
   ]
  },
  {
   "cell_type": "markdown",
   "metadata": {},
   "source": [
    "# XGBoost Classifier"
   ]
  },
  {
   "cell_type": "code",
   "execution_count": 23,
   "metadata": {},
   "outputs": [],
   "source": [
    "xgb = XGBClassifier(random_state=42)\n",
    "xgb.fit(X_train, y_train)\n",
    "xgb_preds = xgb.predict(X_test)\n",
    "xgb_acc = accuracy_score(y_test, xgb_preds)"
   ]
  },
  {
   "cell_type": "markdown",
   "metadata": {},
   "source": [
    "# Bandingkan hasil"
   ]
  },
  {
   "cell_type": "code",
   "execution_count": 24,
   "metadata": {},
   "outputs": [
    {
     "name": "stdout",
     "output_type": "stream",
     "text": [
      "Random Forest Classification report:\n",
      "               precision    recall  f1-score   support\n",
      "\n",
      "           0       0.94      0.97      0.95      6990\n",
      "           1       0.90      0.76      0.83      2010\n",
      "\n",
      "    accuracy                           0.93      9000\n",
      "   macro avg       0.92      0.87      0.89      9000\n",
      "weighted avg       0.93      0.93      0.93      9000\n",
      "\n",
      "\n",
      "XGBoost Classification report:\n",
      "               precision    recall  f1-score   support\n",
      "\n",
      "           0       0.94      0.97      0.96      6990\n",
      "           1       0.88      0.80      0.84      2010\n",
      "\n",
      "    accuracy                           0.93      9000\n",
      "   macro avg       0.91      0.89      0.90      9000\n",
      "weighted avg       0.93      0.93      0.93      9000\n",
      "\n"
     ]
    }
   ],
   "source": [
    "print(\"Random Forest Classification report:\\n\", classification_report(y_test, rf_preds))\n",
    "print(\"\\nXGBoost Classification report:\\n\", classification_report(y_test, xgb_preds))"
   ]
  },
  {
   "cell_type": "code",
   "execution_count": 25,
   "metadata": {},
   "outputs": [
    {
     "name": "stdout",
     "output_type": "stream",
     "text": [
      "Random Forest Accuracy: 0.928\n",
      "\n",
      "XGBoost Accuracy: 0.9318888888888889\n"
     ]
    }
   ],
   "source": [
    "print(\"Random Forest Accuracy:\", rf_acc)\n",
    "print(\"\\nXGBoost Accuracy:\", xgb_acc)"
   ]
  },
  {
   "cell_type": "code",
   "execution_count": 26,
   "metadata": {},
   "outputs": [],
   "source": [
    "rf_train = rf.predict(X_train)\n",
    "xgb_train = xgb.predict(X_train)"
   ]
  },
  {
   "cell_type": "code",
   "execution_count": 27,
   "metadata": {},
   "outputs": [
    {
     "name": "stdout",
     "output_type": "stream",
     "text": [
      "1.0\n",
      "0.9685833333333334\n"
     ]
    }
   ],
   "source": [
    "#bandingin sama data training\n",
    "print(accuracy_score(y_train, rf_train))\n",
    "print(accuracy_score(y_train, xgb_train))"
   ]
  },
  {
   "cell_type": "markdown",
   "metadata": {},
   "source": [
    "Kesimpulan : Model XgBoost akurasinya lebih baik, dan tdk overfit berlebih"
   ]
  },
  {
   "cell_type": "markdown",
   "metadata": {},
   "source": [
    "# Pilih model terbaik dan simpan model"
   ]
  },
  {
   "cell_type": "code",
   "execution_count": 28,
   "metadata": {},
   "outputs": [],
   "source": [
    "best_model = xgb\n",
    "\n",
    "with open('encoding.pkl', 'wb') as f:\n",
    "    pickle.dump(encoding, f)\n",
    "\n",
    "with open('xgb.pkl', 'wb') as f:\n",
    "    pickle.dump(xgb, f)"
   ]
  }
 ],
 "metadata": {
  "kernelspec": {
   "display_name": "Python 3 (ipykernel)",
   "language": "python",
   "name": "python3"
  },
  "language_info": {
   "codemirror_mode": {
    "name": "ipython",
    "version": 3
   },
   "file_extension": ".py",
   "mimetype": "text/x-python",
   "name": "python",
   "nbconvert_exporter": "python",
   "pygments_lexer": "ipython3",
   "version": "3.11.5"
  }
 },
 "nbformat": 4,
 "nbformat_minor": 4
}
