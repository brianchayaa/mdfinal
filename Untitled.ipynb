{
 "cells": [
  {
   "cell_type": "code",
   "execution_count": 1,
   "id": "1fd94ae5",
   "metadata": {},
   "outputs": [
    {
     "name": "stdout",
     "output_type": "stream",
     "text": [
      "Model Accuracy: 0.9336\n",
      "Model saved to loan_model.pkl\n"
     ]
    }
   ],
   "source": [
    "import pandas as pd\n",
    "import pickle\n",
    "from sklearn.model_selection import train_test_split\n",
    "from sklearn.preprocessing import OneHotEncoder\n",
    "from sklearn.compose import ColumnTransformer\n",
    "from sklearn.pipeline import Pipeline\n",
    "from xgboost import XGBClassifier\n",
    "from sklearn.metrics import accuracy_score\n",
    "import os\n",
    "\n",
    "class LoanDefaultTrainer:\n",
    "    def __init__(self, csv_path):\n",
    "        self.csv_path = csv_path\n",
    "        self.model = None\n",
    "        self.pipeline = None\n",
    "\n",
    "    def load_data(self):\n",
    "        df = pd.read_csv(self.csv_path)\n",
    "        df.dropna(inplace=True)\n",
    "        X = df.drop(columns=[\"loan_status\"])\n",
    "        y = df[\"loan_status\"]\n",
    "        return X, y\n",
    "\n",
    "    def build_pipeline(self):\n",
    "        categorical_features = [\"person_gender\", \"person_education\", \"person_home_ownership\", \"loan_intent\", \"previous_loan_defaults_on_file\"]\n",
    "        numeric_features = [\"person_age\", \"person_income\", \"person_emp_exp\", \"loan_amnt\", \"loan_int_rate\", \"loan_percent_income\", \"cb_person_cred_hist_length\", \"credit_score\"]\n",
    "        \n",
    "        transformer = ColumnTransformer(transformers=[\n",
    "            (\"cat\", OneHotEncoder(handle_unknown='ignore'), categorical_features)\n",
    "        ], remainder='passthrough')\n",
    "\n",
    "        self.pipeline = Pipeline(steps=[\n",
    "            (\"preprocessor\", transformer),\n",
    "            (\"classifier\", XGBClassifier(random_state=42))\n",
    "        ])\n",
    "\n",
    "    def train(self):\n",
    "        X, y = self.load_data()\n",
    "        X_train, X_test, y_train, y_test = train_test_split(X, y, test_size=0.2, random_state=42)\n",
    "        self.build_pipeline()\n",
    "        self.pipeline.fit(X_train, y_train)\n",
    "        y_pred = self.pipeline.predict(X_test)\n",
    "        acc = accuracy_score(y_test, y_pred)\n",
    "        print(f\"Model Accuracy: {acc:.4f}\")\n",
    "        self.model = self.pipeline\n",
    "\n",
    "    def save_model(self, output_path=\"loan_model.pkl\"):\n",
    "        with open(output_path, \"wb\") as f:\n",
    "            pickle.dump(self.model, f)\n",
    "        print(f\"Model saved to {output_path}\")\n",
    "\n",
    "if __name__ == \"__main__\":\n",
    "    trainer = LoanDefaultTrainer(csv_path=\"Dataset_A_loan.csv\")\n",
    "    trainer.train()\n",
    "    trainer.save_model()\n"
   ]
  },
  {
   "cell_type": "code",
   "execution_count": null,
   "id": "bc323ca3",
   "metadata": {},
   "outputs": [],
   "source": []
  },
  {
   "cell_type": "code",
   "execution_count": null,
   "id": "2bd5c3d3",
   "metadata": {},
   "outputs": [],
   "source": []
  }
 ],
 "metadata": {
  "kernelspec": {
   "display_name": "Python 3 (ipykernel)",
   "language": "python",
   "name": "python3"
  },
  "language_info": {
   "codemirror_mode": {
    "name": "ipython",
    "version": 3
   },
   "file_extension": ".py",
   "mimetype": "text/x-python",
   "name": "python",
   "nbconvert_exporter": "python",
   "pygments_lexer": "ipython3",
   "version": "3.11.5"
  }
 },
 "nbformat": 4,
 "nbformat_minor": 5
}
